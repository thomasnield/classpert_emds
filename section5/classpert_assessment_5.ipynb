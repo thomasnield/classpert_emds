{
 "cells": [
  {
   "cell_type": "markdown",
   "id": "7bbe8e5a-0890-47b9-925a-215447ef41df",
   "metadata": {},
   "source": [
    "# Section 5\n",
    "## Assessment Questions"
   ]
  },
  {
   "cell_type": "markdown",
   "id": "b0eadfdf-d39c-4a93-9d4f-88dbc210dcb6",
   "metadata": {},
   "source": [
    "1. True or False: linear regression is a form of machine learning.\n",
    "\n",
    "   a. True [correct answer]\n",
    "\n",
    "   b. False\n",
    "\n",
    "FEEDBACK: A linear regression is the most basic form of machine learning, or more specifically supervised machine learning. We are fitting a function (a linear function) to data and hoping to make effective generalizations of the data for analysis and prediction. "
   ]
  },
  {
   "cell_type": "markdown",
   "id": "69dc7bf1-9567-48cd-90bf-bd672f344998",
   "metadata": {},
   "source": [
    "2. How do you calculate the sum of squares?\n",
    "\n",
    "   a. Square each input variable value and sum them\n",
    "\n",
    "   b. Square the residuals (differences between predicted y-values and actual y-values) and sum them [correct answer]\n",
    "\n",
    "   c. Calculate the average of the residuals (differences between predicted y-values and actual y-values)\n",
    "\n",
    "   d. Take the absolute values of the residuals (differences between predicted y-values and actual y-values) and sum them\n",
    "\n",
    "FEEDBACK: The sum of squares will calculate the squared residuals, the differences between the predicted y-values and actual y-values, and sum them together. This is a way to measure how closely the line is fit to the points. "
   ]
  },
  {
   "cell_type": "markdown",
   "id": "69ac1be3-4670-4a8a-8533-ac028f4d53b3",
   "metadata": {},
   "source": [
    "3. What is the most efficient, stable, and scalable way to perform linear regression?\n",
    "\n",
    "   a. Gradient descent\n",
    "\n",
    "   b. Inverse matrices\n",
    "\n",
    "   c. Hill climbing\n",
    "\n",
    "   d. QR Decomposition [correct answer]\n",
    "\n",
    "FEEDBACK: The most scalable and stable way to fit a linear regression is using the linear algebra decomposition technique called QR decomposition. It will ensure floating point arithmetic minimizes errors and efficiently fit a line using least squares. "
   ]
  },
  {
   "cell_type": "markdown",
   "id": "5fd0a75b-52ed-4655-9bdd-032c55c0c417",
   "metadata": {},
   "source": [
    "4. True or false: When you fit a linear regression using a least squares method, you have an effective model to analyze variable relationships and make predictions.\n",
    "\n",
    "   a. True\n",
    "\n",
    "   b. False [correct answer]\n",
    "\n",
    "FEEDBACK: Just because you fit a linear regression to some data does not mean the model is going to perform well. There are other concerns like correlation, p-values, overfitting, and bias that have to be considered. "
   ]
  },
  {
   "cell_type": "markdown",
   "id": "e75cf32d-1bfd-48fb-991c-d0a9fd7bd758",
   "metadata": {},
   "source": [
    "5. The raw output of a logistic regression is...\n",
    "\n",
    "   a. A binary output variable\n",
    "\n",
    "   b. A probability output variable [correct answer]\n",
    "\n",
    "   c. A real positive/negative floating point number\n",
    "\n",
    "   d. None of the above\n",
    "\n",
    "FEEDBACK: A logistic regression is going to strictly output a probability between 0 and 1. However, you can use that probability with a threshold to assign it a True/False or even a category. "
   ]
  },
  {
   "cell_type": "markdown",
   "id": "11766d86-4490-49b2-90d9-4511f578676e",
   "metadata": {},
   "source": [
    "6. True or false: A logistic regression only supports true/false categories and cannot extend to more categories.\n",
    "\n",
    "   a. True\n",
    "\n",
    "   b. False [correct answer]\n",
    "\n",
    "A logistic regression CAN be extended to support multiple categories, one way being to create a separate logistic regression for each category and choosing the one with the highest probability. "
   ]
  }
 ],
 "metadata": {
  "kernelspec": {
   "display_name": "Python 3 (ipykernel)",
   "language": "python",
   "name": "python3"
  },
  "language_info": {
   "codemirror_mode": {
    "name": "ipython",
    "version": 3
   },
   "file_extension": ".py",
   "mimetype": "text/x-python",
   "name": "python",
   "nbconvert_exporter": "python",
   "pygments_lexer": "ipython3",
   "version": "3.11.5"
  }
 },
 "nbformat": 4,
 "nbformat_minor": 5
}
