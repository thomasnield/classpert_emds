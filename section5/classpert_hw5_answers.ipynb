{
 "cells": [
  {
   "cell_type": "markdown",
   "id": "aa316b59-1dd0-457c-bbdd-1642d92067f8",
   "metadata": {},
   "source": [
    "## Homework 5 (with answers)"
   ]
  },
  {
   "cell_type": "markdown",
   "id": "5046e17c-06c8-4f01-af15-77a5fc933106",
   "metadata": {},
   "source": [
    "1. You have a dataset of an input variable $ x $ and an output variable $ y $ below. \n",
    "\n",
    "$\n",
    "x = (91,70,95,6,56,13,46,21,72,35,91,35,84,62,51,39,17,58,42,60,39,85,51,0,90)\n",
    "$\n",
    "\n",
    "$\n",
    "y = (184.2,162.5,201.8,-4.4,133.0,25.2,91.4,47.2,149.0,43.9,197.9,71.7,163.1,\n",
    "              132.2,94.9,92.8,20.1,132.7,78.3,141.6,87.4,175.9,90.0,5.8,167.3)\n",
    "$ \n",
    "\n",
    "Complete the code below to fit a linear regression using scikit-learn, and identify the coefficients for the slope and intercept. Don't worry about train/test splits for now. "
   ]
  },
  {
   "cell_type": "code",
   "execution_count": 22,
   "id": "db2ca236-5271-4fc4-94d6-f36a95ce106d",
   "metadata": {},
   "outputs": [
    {
     "name": "stdout",
     "output_type": "stream",
     "text": [
      "184.2,162.5,201.8,-4.4,133.0,25.2,91.4,47.2,149.0,43.9,197.9,71.7,163.1,132.2,94.9,92.8,20.1,132.7,78.3,141.6,87.4,175.9,90.0,5.8,167.3\n",
      "m = [2.14117547]\n",
      "b = [-4.69194738]\n"
     ]
    },
    {
     "data": {
      "image/png": "[encoded data removed]",
      "text/plain": [
       "<Figure size 640x480 with 1 Axes>"
      ]
     },
     "metadata": {},
     "output_type": "display_data"
    }
   ],
   "source": [
    "import numpy as np \n",
    "import matplotlib.pyplot as plt\n",
    "from sklearn.linear_model import LinearRegression\n",
    "\n",
    "X = np.array([91,70,95,6,56,13,46,21,72,35,91,35,84,62,51,39,17,58,42,60,39,85,51,0,90]).reshape(-1, 1)\n",
    "\n",
    "Y = np.array([184.2,162.5,201.8,-4.4,133.0,25.2,91.4,47.2,149.0,43.9,197.9,71.7,163.1,\n",
    "              132.2,94.9,92.8,20.1,132.7,78.3,141.6,87.4,175.9,90.0,5.8,167.3])\n",
    "\n",
    "# Fit a line to the points\n",
    "fit = LinearRegression().fit(X, Y)\n",
    "\n",
    "# m = 1.7867224, b = -16.51923513\n",
    "m = fit.coef_.flatten()\n",
    "b = fit.intercept_.flatten()\n",
    "print(\"m = {0}\".format(m))\n",
    "print(\"b = {0}\".format(b))\n",
    "\n",
    "# show in chart\n",
    "plt.plot(X, Y, 'o') # scatterplot\n",
    "plt.plot(X, m*X+b) # line\n",
    "plt.show()"
   ]
  },
  {
   "cell_type": "markdown",
   "id": "cc281f82-9293-452a-9497-dac44d4577c1",
   "metadata": {},
   "source": [
    "2. Fit a logistic regression to [this data](https://bit.ly/3imidqa) that predicts a light/dark font for a given background color. Each data point contains red, green, and blue values composing the given background color and an output variable column indicating whether it belongs to a light (0) or dark (1) background color. Complete the code below by replacing the question marks and the indicated comment blocks. "
   ]
  },
  {
   "cell_type": "code",
   "execution_count": null,
   "id": "842276be-203c-4a31-b132-693fb0d15e4f",
   "metadata": {},
   "outputs": [],
   "source": [
    "import pandas as pd\n",
    "from sklearn.linear_model import LogisticRegression\n",
    "import numpy as np\n",
    "\n",
    "# Load the data\n",
    "df = pd.read_csv(\"https://bit.ly/3imidqa\", delimiter=\",\")\n",
    "\n",
    "# Extract input variables (all rows, all columns but last column)\n",
    "X = df.values[:, :-1]\n",
    "\n",
    "# Extract output column (all rows, last column)\n",
    "Y = df.values[:, -1]\n",
    "\n",
    "model = LogisticRegression(solver='liblinear')\n",
    "\n",
    "model.fit(X, Y)\n",
    "\n",
    "# Test a prediction\n",
    "while True:\n",
    "    n = input(\"Input a color {red},{green},{blue}: \")\n",
    "    (r, g, b) = n.split(\",\")\n",
    "    x = model.predict(np.array([[int(r), int(g), int(b)]]))\n",
    "    if model.predict(np.array([[int(r), int(g), int(b)]]))[0] == 0.0:\n",
    "        print(\"LIGHT\")\n",
    "    else:\n",
    "        print(\"DARK\")"
   ]
  }
 ],
 "metadata": {
  "kernelspec": {
   "display_name": "Python 3 (ipykernel)",
   "language": "python",
   "name": "python3"
  },
  "language_info": {
   "codemirror_mode": {
    "name": "ipython",
    "version": 3
   },
   "file_extension": ".py",
   "mimetype": "text/x-python",
   "name": "python",
   "nbconvert_exporter": "python",
   "pygments_lexer": "ipython3",
   "version": "3.11.5"
  }
 },
 "nbformat": 4,
 "nbformat_minor": 5
}
