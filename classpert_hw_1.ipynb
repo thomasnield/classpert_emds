{
 "cells": [
  {
   "cell_type": "markdown",
   "id": "4c6d1ed5-2805-4cb6-b2b2-f73af5711856",
   "metadata": {},
   "source": [
    "# Homework 1\n",
    "## Linear Algebra"
   ]
  },
  {
   "cell_type": "markdown",
   "id": "6edf5750-565d-4232-8619-7e45fa37d5b6",
   "metadata": {},
   "source": [
    "1. Perform the matrix-vector multiplication below by hand or using NumPy or Sympy:\n",
    "    \n",
    "    $\n",
    "    \\left[\\begin{matrix}1 & 3\\\\4 & -1\\end{matrix}\\right] \\left[\\begin{matrix}3\\\\2\\end{matrix}\\right]  = ?\n",
    "    $\n",
    "\n",
    "2. Vector $ \\vec{w} = \\begin{bmatrix} 3 \\\\ -1 \\end{bmatrix} $ is the transformation of vector $ \\vec{v} $, where the linear transformation was the result of matrix $ \\left[\\begin{matrix}1 & 3\\\\4 & -1\\end{matrix}\\right] $. What was vector $ \\vec{v} $?\n",
    "\n",
    "3. Is the matrix $ \\left[\\begin{matrix}2 & 1\\\\6 & 3\\end{matrix}\\right] $ linearly dependent? Why or why not?\n",
    "\n",
    "4. Solve the following system of equations:\n",
    "\n",
    "   $\n",
    "   50x + 3y + 2z = 25\n",
    "   $\n",
    "\n",
    "   $\n",
    "   x - 2y + 12z = 12\n",
    "   $\n",
    "\n",
    "   $\n",
    "   8x + 5y + 2z = 5\n",
    "   $\n",
    "\n",
    "5. For discussion in the next cohort, what are some other applications of linear algebra you can think of? How would vectors, matrices, and linear transformations be used in systems you touch every day? "
   ]
  },
  {
   "cell_type": "code",
   "execution_count": null,
   "id": "4d6ed465-8c78-420d-a199-d766a41fb171",
   "metadata": {},
   "outputs": [],
   "source": []
  }
 ],
 "metadata": {
  "kernelspec": {
   "display_name": "Python 3 (ipykernel)",
   "language": "python",
   "name": "python3"
  },
  "language_info": {
   "codemirror_mode": {
    "name": "ipython",
    "version": 3
   },
   "file_extension": ".py",
   "mimetype": "text/x-python",
   "name": "python",
   "nbconvert_exporter": "python",
   "pygments_lexer": "ipython3",
   "version": "3.11.6"
  }
 },
 "nbformat": 4,
 "nbformat_minor": 5
}
