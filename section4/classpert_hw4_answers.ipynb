{
 "cells": [
  {
   "cell_type": "markdown",
   "id": "0f47d307-ea9a-4cd0-ab71-0fac72a166e1",
   "metadata": {},
   "source": [
    "## Homework 4 (with answers)"
   ]
  },
  {
   "cell_type": "markdown",
   "id": "1c37528c-d9f1-4780-872b-e8f60c3e33a3",
   "metadata": {},
   "source": [
    "1. You are measuring the life of a cheap capacitor in a circuit board, and obtained a small sample of these values (in days)\n",
    "\n",
    "$\n",
    "x = (656,694,558,618,613,687,744,703,591,665)\n",
    "$\n",
    "\n",
    "Calculate the mean, variance, and standard deviation of this sample. "
   ]
  },
  {
   "cell_type": "code",
   "execution_count": 5,
   "id": "9a02a169-69c5-401a-8da6-871820272205",
   "metadata": {},
   "outputs": [
    {
     "name": "stdout",
     "output_type": "stream",
     "text": [
      "MEAN:  652.9\n",
      "VAR:  3273.8777777777777\n",
      "STD DEV:  57.21780997012886\n"
     ]
    }
   ],
   "source": [
    "from math import sqrt\n",
    "\n",
    "sample = [656,694,558,618,613,687,744,703,591,665]\n",
    "\n",
    "def mean(values):\n",
    "    return sum(values) /len(values)\n",
    "\n",
    "def variance_sample(values):\n",
    "    mean = sum(values) / len(values)\n",
    "    var = sum((v - mean) ** 2 for v in values) / (len(values) - 1)\n",
    "    return var\n",
    "\n",
    "def std_dev_sample(values):\n",
    "    return sqrt(variance_sample(values))\n",
    "\n",
    "mean = mean(sample)\n",
    "var = variance_sample(sample)\n",
    "std_dev = std_dev_sample(sample)\n",
    "\n",
    "print(\"MEAN: \", mean) # 652.9\n",
    "print(\"VAR: \", var) # 3273.8777777777777\n",
    "print(\"STD DEV: \", std_dev) # 57.21780997012886"
   ]
  },
  {
   "cell_type": "markdown",
   "id": "37cea362-4eea-4dbf-8c11-72173cec98a3",
   "metadata": {},
   "source": [
    "2. An Android tablet that came on the market a few years ago had data collected from random users to assess battery wear and tear. It was found that the battery would show significant failure on average at 24 months, with 3 months standard deviation. What is the probability the battery will last between 20 and 28 months? "
   ]
  },
  {
   "cell_type": "code",
   "execution_count": 12,
   "id": "a0ca2a53-95af-4420-aa96-84909a4f3eb8",
   "metadata": {},
   "outputs": [
    {
     "name": "stdout",
     "output_type": "stream",
     "text": [
      "0.8175775605482642\n"
     ]
    }
   ],
   "source": [
    "from scipy.stats import norm\n",
    "\n",
    "mean = 24\n",
    "std_dev = 3\n",
    "\n",
    "x = norm.cdf(28, mean, std_dev) - norm.cdf(20, mean, std_dev)\n",
    "\n",
    "print(x) # 0.8175775605482642"
   ]
  },
  {
   "cell_type": "markdown",
   "id": "f29a53e9-0e85-46f8-9e70-f95aca5046b0",
   "metadata": {},
   "source": [
    "3. I am skeptical that my 3D printer filament is not 1.75 mm in average diameter as advertised. I sampled 34 measurements with my tool. The sample mean is 1.715588 and the sample standard deviation is 0.029252. What is the 99% confidence interval for the mean of my entire spool of filament?"
   ]
  },
  {
   "cell_type": "code",
   "execution_count": 13,
   "id": "0633c814-e06c-4488-8a7f-94c3527b0859",
   "metadata": {},
   "outputs": [
    {
     "name": "stdout",
     "output_type": "stream",
     "text": [
      "(1.7026658973748656, 1.7285101026251342)\n"
     ]
    }
   ],
   "source": [
    "from math import sqrt\n",
    "from scipy.stats import norm\n",
    "\n",
    "def critical_z_value(p, mean=0.0, std=1.0):\n",
    "    norm_dist = norm(loc=mean, scale=std)\n",
    "    left_area = (1.0 - p) / 2.0\n",
    "    right_area = 1.0 - ((1.0 - p) / 2.0)\n",
    "    return norm_dist.ppf(left_area), norm_dist.ppf(right_area)\n",
    "\n",
    "\n",
    "def ci_large_sample(p, sample_mean, sample_std, n):\n",
    "    # Sample size must be greater than 30\n",
    "\n",
    "    lower, upper = critical_z_value(p)\n",
    "    lower_ci = lower * (sample_std / sqrt(n))\n",
    "    upper_ci = upper * (sample_std / sqrt(n))\n",
    "\n",
    "    return sample_mean + lower_ci, sample_mean + upper_ci\n",
    "\n",
    "\n",
    "print(ci_large_sample(p=.99, sample_mean=1.715588, sample_std=0.029252, n=34))\n",
    "# (1.7026658973748656, 1.7285101026251342)"
   ]
  },
  {
   "cell_type": "markdown",
   "id": "aa55c6d9-6e03-4e61-b22c-8871f4e3092e",
   "metadata": {},
   "source": [
    "4. The 3D printer filament company told me they improved their processes so the filament was consistently closer to 1.74 mm. I recieved a new spool and took 34 measurements, and found I got a mean of 1.762. What is the p-value this observation was by random chance, and no change effectively happened? At a two-tailed threshold of .05, is it small enough to compel us they've made a meaningful change? "
   ]
  },
  {
   "cell_type": "code",
   "execution_count": 21,
   "id": "973bfb33-260a-4157-8f56-bb3c283b5988",
   "metadata": {},
   "outputs": [
    {
     "name": "stdout",
     "output_type": "stream",
     "text": [
      "Two-tailed P-value 0.11259724934038529\n",
      "Fails two-tailed test\n"
     ]
    }
   ],
   "source": [
    "from scipy.stats import norm\n",
    "\n",
    "mean = 1.715588 \n",
    "sd = 0.029252\n",
    "\n",
    "p = 1.0 - norm.cdf(1.762, mean, sd)\n",
    "\n",
    "# P-value of both tails, \n",
    "# Take advantage of symmetry\n",
    "p_value = p*2 \n",
    "\n",
    "print(\"Two-tailed P-value\", p_value)\n",
    "if p_value <= .05:\n",
    "    print(\"Passes two-tailed test\")\n",
    "else:\n",
    "    print(\"Fails two-tailed test\")\n",
    "\n",
    "# Two-tailed P-value 0.01888333596496139\n",
    "# Passes two-tailed test"
   ]
  }
 ],
 "metadata": {
  "kernelspec": {
   "display_name": "Python 3 (ipykernel)",
   "language": "python",
   "name": "python3"
  },
  "language_info": {
   "codemirror_mode": {
    "name": "ipython",
    "version": 3
   },
   "file_extension": ".py",
   "mimetype": "text/x-python",
   "name": "python",
   "nbconvert_exporter": "python",
   "pygments_lexer": "ipython3",
   "version": "3.11.5"
  }
 },
 "nbformat": 4,
 "nbformat_minor": 5
}
