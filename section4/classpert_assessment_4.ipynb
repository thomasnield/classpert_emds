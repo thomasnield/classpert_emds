{
 "cells": [
  {
   "cell_type": "markdown",
   "id": "eea79124-3742-4b2b-bf0a-f203834c17d7",
   "metadata": {},
   "source": [
    "# Section 4\n",
    "## Assessment Questions"
   ]
  },
  {
   "cell_type": "markdown",
   "id": "a007a147-2285-436c-a0ac-01ae03d7bb7c",
   "metadata": {},
   "source": [
    "1. True or false: data is always the source of truth and has context.\n",
    "\n",
    "   a. True\n",
    "   \n",
    "   b. False [correct answer]\n",
    "\n",
    "   FEEDBACK: Since data only contains snapshots of something at a given point in time, and with a limited number of variables, data is not the source of truth but rather clues to the truth. It also lacks context in what processes created the data. "
   ]
  },
  {
   "cell_type": "markdown",
   "id": "4d407adc-f2f8-40f6-b152-b6fc53cabf04",
   "metadata": {},
   "source": [
    "2. When the median is far from the mean, this means...\n",
    "\n",
    "   a. The data is skewed [correct answer]\n",
    "\n",
    "   b. The data has been collected incorrectly\n",
    "\n",
    "   c. The data is biased\n",
    "\n",
    "   d. The data has high variance\n",
    "\n",
    "   FEEDBACK: When you have a mean and median with very different values, it means the data is skewed. This does not necessarily mean the data is wrong, biased, or has high variance. It may just indicate what you are studying does not have a symmetrical distribution."
   ]
  },
  {
   "cell_type": "markdown",
   "id": "e866a3cd-2abc-4043-adc8-e789dc25f0b2",
   "metadata": {},
   "source": [
    "3. When calculating variance for a sample, sum the squared differences between each data point and the mean, and then...\n",
    "\n",
    "   a. Divide by the size of the sample \n",
    "\n",
    "   b. Divide by the size of the sample minus 1 [correct answer]\n",
    "\n",
    "   c. Multiply by the size of the sample\n",
    "\n",
    "   d. Multiply by the size of the sample minus 1\n",
    "\n",
    "\n",
    "FEEDBACK: To calculate variance for a sample, you want to sum the squared differences between each data point and the mean, and divide by the size of the sample minus 1. This is to increase the variance and reflect more uncertainty since it is a sample. "
   ]
  },
  {
   "cell_type": "markdown",
   "id": "e70bda07-7537-4c7c-abc5-dc6efa815792",
   "metadata": {},
   "source": [
    "4. If you have a very low p-value in hypothesis testing (such as .001), this would indicate...\n",
    "\n",
    "   a. The outcome was likely to have happened by random chance\n",
    "\n",
    "   b. Our experiment has shown the alternative hypothesis to be 100% true \n",
    "\n",
    "   c. The outcome was unlikely to have happened by random chance [correct answer]\n",
    "\n",
    "   d. The null hypothesis has shown to be 100% true\n",
    "\n",
    "\n",
    "FEEDBACK: A low p-value in an experiment indicates the outcome was unlikely to happen by chance, leading us to believe our alternative hypothesis is a more believable explanation of the outcome than the null hypothesis. "
   ]
  }
 ],
 "metadata": {
  "kernelspec": {
   "display_name": "Python 3 (ipykernel)",
   "language": "python",
   "name": "python3"
  },
  "language_info": {
   "codemirror_mode": {
    "name": "ipython",
    "version": 3
   },
   "file_extension": ".py",
   "mimetype": "text/x-python",
   "name": "python",
   "nbconvert_exporter": "python",
   "pygments_lexer": "ipython3",
   "version": "3.11.5"
  }
 },
 "nbformat": 4,
 "nbformat_minor": 5
}
