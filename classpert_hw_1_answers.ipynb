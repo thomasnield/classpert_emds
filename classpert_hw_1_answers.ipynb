{
 "cells": [
  {
   "cell_type": "markdown",
   "id": "4c6d1ed5-2805-4cb6-b2b2-f73af5711856",
   "metadata": {},
   "source": [
    "# Homework 1 (with answers)\n",
    "## Linear Algebra"
   ]
  },
  {
   "cell_type": "markdown",
   "id": "6edf5750-565d-4232-8619-7e45fa37d5b6",
   "metadata": {},
   "source": [
    "1. Perform the matrix-vector multiplication below by hand or using NumPy or Sympy:\n",
    "    \n",
    "    $\n",
    "    \\left[\\begin{matrix}1 & 3\\\\4 & -1\\end{matrix}\\right] \\left[\\begin{matrix}3\\\\2\\end{matrix}\\right]  = ?\n",
    "    $\n",
    "   "
   ]
  },
  {
   "cell_type": "markdown",
   "id": "8ced2e96-2b21-421d-8242-9c9fa3096167",
   "metadata": {},
   "source": [
    "### Numpy Answer: "
   ]
  },
  {
   "cell_type": "code",
   "execution_count": 3,
   "id": "cc628143-4af0-457f-b83c-7b2ecdc557f6",
   "metadata": {},
   "outputs": [
    {
     "data": {
      "text/plain": [
       "array([ 9, 10])"
      ]
     },
     "execution_count": 3,
     "metadata": {},
     "output_type": "execute_result"
    }
   ],
   "source": [
    "import numpy as np \n",
    "\n",
    "A = np.array([[1, 3],[4, -1]]) \n",
    "v = np.array([3, 2])\n",
    "\n",
    "A @ v # array([ 9, 10])"
   ]
  },
  {
   "cell_type": "markdown",
   "id": "6d554d05-44df-475f-9257-0398c9e9d242",
   "metadata": {},
   "source": [
    "### SymPy Answer: "
   ]
  },
  {
   "cell_type": "code",
   "execution_count": 5,
   "id": "ed8c3f55-bbfc-4ef3-bc21-cf1819dc5738",
   "metadata": {},
   "outputs": [
    {
     "data": {
      "text/latex": [
       "$\\displaystyle \\left[\\begin{matrix}9\\\\10\\end{matrix}\\right]$"
      ],
      "text/plain": [
       "Matrix([\n",
       "[ 9],\n",
       "[10]])"
      ]
     },
     "execution_count": 5,
     "metadata": {},
     "output_type": "execute_result"
    }
   ],
   "source": [
    "from sympy import * \n",
    "\n",
    "A = Matrix([[1, 3],[4, -1]]) \n",
    "v = Matrix([3, 2])\n",
    "\n",
    "A @ v"
   ]
  },
  {
   "cell_type": "markdown",
   "id": "8e436aa4-01e8-41f2-a3c8-47616be9ffc3",
   "metadata": {},
   "source": [
    "2. Vector $ \\vec{w} = \\begin{bmatrix} 3 \\\\ -1 \\end{bmatrix} $ is the transformation of vector $ \\vec{v} $, where the linear transformation was the result of matrix $ \\left[\\begin{matrix}1 & 3\\\\4 & -1\\end{matrix}\\right] $. What was vector $ \\vec{v} $?\n",
    "\n"
   ]
  },
  {
   "cell_type": "markdown",
   "id": "31ad6a5a-9169-40af-84d7-0e1d2c72f5bf",
   "metadata": {},
   "source": [
    "### Numpy Answer: "
   ]
  },
  {
   "cell_type": "code",
   "execution_count": 10,
   "id": "13310e95-34cb-4c95-ba43-56d654add394",
   "metadata": {},
   "outputs": [
    {
     "data": {
      "text/plain": [
       "array([0., 1.])"
      ]
     },
     "execution_count": 10,
     "metadata": {},
     "output_type": "execute_result"
    }
   ],
   "source": [
    "import numpy as np \n",
    "from numpy.linalg import inv \n",
    "\n",
    "A = np.array([[1, 3],[4, -1]])\n",
    "w = np.array([3, -1])\n",
    "\n",
    "inv_A = inv(A)\n",
    "\n",
    "v = inv_A @ w \n",
    "v "
   ]
  },
  {
   "cell_type": "markdown",
   "id": "70f1676a-c1e7-486f-9429-83f4bbe6f0a4",
   "metadata": {},
   "source": [
    "### SymPy Answer: "
   ]
  },
  {
   "cell_type": "code",
   "execution_count": 11,
   "id": "93059bf6-ef18-4f41-9cb1-65877302dc63",
   "metadata": {},
   "outputs": [
    {
     "data": {
      "text/latex": [
       "$\\displaystyle \\left[\\begin{matrix}0\\\\1\\end{matrix}\\right]$"
      ],
      "text/plain": [
       "Matrix([\n",
       "[0],\n",
       "[1]])"
      ]
     },
     "execution_count": 11,
     "metadata": {},
     "output_type": "execute_result"
    }
   ],
   "source": [
    "from sympy import*  \n",
    "\n",
    "A = Matrix([[1, 3],[4, -1]])\n",
    "w = Matrix([3, -1])\n",
    "\n",
    "inv_A = A.inv()\n",
    "\n",
    "v = inv_A @ w \n",
    "v "
   ]
  },
  {
   "cell_type": "markdown",
   "id": "6cdefe8e-3bc4-49b0-ad5e-2cf638ca60e9",
   "metadata": {},
   "source": [
    "3. Is the matrix $ \\left[\\begin{matrix}2 & 1\\\\6 & 3\\end{matrix}\\right] $ linearly dependent? Why or why not?\n"
   ]
  },
  {
   "cell_type": "markdown",
   "id": "bb924d66-9db7-42d2-8cf8-57bfb4fc75f4",
   "metadata": {},
   "source": [
    "### Numpy Answer: "
   ]
  },
  {
   "cell_type": "code",
   "execution_count": 13,
   "id": "fb796927-490f-4a72-ad1f-a0cb1afe4296",
   "metadata": {},
   "outputs": [
    {
     "data": {
      "text/plain": [
       "-3.330669073875464e-16"
      ]
     },
     "execution_count": 13,
     "metadata": {},
     "output_type": "execute_result"
    }
   ],
   "source": [
    "import numpy as np \n",
    "from numpy.linalg import det \n",
    "\n",
    "A = np.array([[2, 1],[6,3]])\n",
    "det(A) # -3.330669073875464e-16"
   ]
  },
  {
   "cell_type": "markdown",
   "id": "7e862785-4b3b-4157-8611-24c5511d6d97",
   "metadata": {},
   "source": [
    "### SymPy Answer: "
   ]
  },
  {
   "cell_type": "code",
   "execution_count": 15,
   "id": "3192f994-9292-4ced-b5fe-c4603053bccf",
   "metadata": {},
   "outputs": [
    {
     "data": {
      "text/latex": [
       "$\\displaystyle 0$"
      ],
      "text/plain": [
       "0"
      ]
     },
     "execution_count": 15,
     "metadata": {},
     "output_type": "execute_result"
    }
   ],
   "source": [
    "from sympy import * \n",
    "\n",
    "A = Matrix([[2, 1],[6,3]])\n",
    "det(A) # 0 "
   ]
  },
  {
   "cell_type": "markdown",
   "id": "05ceff74-f1d9-4ab3-b90d-3a063d164310",
   "metadata": {},
   "source": [
    "\n",
    "4. Solve the following system of equations:\n",
    "\n",
    "   $\n",
    "   50x + 3y + 2z = 25\n",
    "   $\n",
    "\n",
    "   $\n",
    "   x - 2y + 12z = 12\n",
    "   $\n",
    "\n",
    "   $\n",
    "   8x + 5y + 2z = 5\n",
    "   $"
   ]
  },
  {
   "cell_type": "markdown",
   "id": "f0135268-72a9-412e-801f-d152d977febe",
   "metadata": {},
   "source": [
    "### Numpy Answer: "
   ]
  },
  {
   "cell_type": "code",
   "execution_count": 16,
   "id": "cd6cca4f-3fbf-4a2a-9f14-9985b2dcd4ca",
   "metadata": {},
   "outputs": [
    {
     "name": "stdout",
     "output_type": "stream",
     "text": [
      "[ 0.47009736 -0.12795549  0.9394993 ]\n"
     ]
    }
   ],
   "source": [
    "from numpy import array\n",
    "from numpy.linalg import inv\n",
    "\n",
    "# 50x + 3y + 2z = 25\n",
    "# x - 2y + 12z = 12\n",
    "# 8x + 5y + 2z = 5\n",
    "\n",
    "A = array([\n",
    "    [50, 3, 2],\n",
    "    [1, -2, 12],\n",
    "    [8, 5, 2]\n",
    "])\n",
    "\n",
    "B = array([\n",
    "    25,\n",
    "    12,\n",
    "    5\n",
    "])\n",
    "\n",
    "X = inv(A) @ B \n",
    "\n",
    "print(X) # [ 0.47009736 -0.12795549  0.9394993 ]"
   ]
  },
  {
   "cell_type": "markdown",
   "id": "23961aa8-d4e3-4954-98a8-2f5d558084e8",
   "metadata": {},
   "source": [
    "### SymPy Answer: "
   ]
  },
  {
   "cell_type": "code",
   "execution_count": 18,
   "id": "4270ee17-6180-404c-bdf3-83ef5b29e1da",
   "metadata": {},
   "outputs": [
    {
     "name": "stdout",
     "output_type": "stream",
     "text": [
      "Matrix([[338/719], [-92/719], [1351/1438]])\n"
     ]
    }
   ],
   "source": [
    "from sympy import *\n",
    "\n",
    "\n",
    "# 50x + 3y + 2z = 25\n",
    "# x - 2y + 12z = 12\n",
    "# 8x + 5y + 2z = 5\n",
    "\n",
    "A = Matrix([\n",
    "    [50, 3, 2],\n",
    "    [1, -2, 12],\n",
    "    [8, 5, 2]\n",
    "])\n",
    "\n",
    "B = Matrix([\n",
    "    25,\n",
    "    12,\n",
    "    5\n",
    "])\n",
    "\n",
    "X = A.inv() * B\n",
    "\n",
    "print(X) # Matrix([[338/719], [-92/719], [1351/1438]])"
   ]
  },
  {
   "cell_type": "markdown",
   "id": "fe5e6ae1-8161-4839-b76d-a10f56a3b91e",
   "metadata": {},
   "source": [
    "5. For discussion in the next cohort, what are some other applications of linear algebra you can think of? How would vectors, matrices, and linear transformations be used in systems you touch every day?\n",
    "\n",
    "* Computer games\n",
    "* Flight simulators\n",
    "* Computer graphic editors\n",
    "* Weather data\n",
    "* Engineering specifications\n",
    "* Machine learning\n",
    "* Data storage\n",
    "* Networking "
   ]
  }
 ],
 "metadata": {
  "kernelspec": {
   "display_name": "Python 3 (ipykernel)",
   "language": "python",
   "name": "python3"
  },
  "language_info": {
   "codemirror_mode": {
    "name": "ipython",
    "version": 3
   },
   "file_extension": ".py",
   "mimetype": "text/x-python",
   "name": "python",
   "nbconvert_exporter": "python",
   "pygments_lexer": "ipython3",
   "version": "3.11.6"
  }
 },
 "nbformat": 4,
 "nbformat_minor": 5
}
