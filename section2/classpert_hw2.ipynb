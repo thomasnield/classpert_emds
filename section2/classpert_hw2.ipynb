{
 "cells": [
  {
   "cell_type": "markdown",
   "metadata": {},
   "source": [
    "# Homework 2 (with answers)"
   ]
  },
  {
   "cell_type": "markdown",
   "metadata": {},
   "source": [
    "1. Evaluate and simplify the following expressions:\n",
    "   * $ 10^5 10^{-3} $\n",
    "   * $ \\text{log}_{10}1000 $\n",
    "   * $ \\text{log}_{2}{32} $\n",
    "   * $ 25^{3/2} $"
   ]
  },
  {
   "cell_type": "markdown",
   "metadata": {},
   "source": [
    "2. Label each of these as either rational or irrational:\n",
    "   * 67.2715882509\n",
    "   * $ e $\n",
    "   * $ sqrt{2} $\n",
    "   * $ \\pi $\n",
    "   * 25/2\n",
    "   * 2/3\n",
    "   * 1577"
   ]
  },
  {
   "cell_type": "markdown",
   "metadata": {},
   "source": [
    "3. Evaluate this expression:\n",
    "\n",
    "   $ \\Large \\text{lim}_{x \\to 15} ( \\frac{3}{(x-15)^2} + 5) $ "
   ]
  },
  {
   "cell_type": "markdown",
   "metadata": {},
   "source": [
    "4. Evaluate this expression:\n",
    "\n",
    "   $ \\Large \\text{lim}_{x \\to \\infty} (\\frac{3}{(x-15)^2} + 5)$ "
   ]
  },
  {
   "cell_type": "markdown",
   "metadata": {},
   "source": [
    "5. Calculate the slope of this function at $ x = 3 $ \n",
    "\n",
    "    $ \\Large f(x) = 2x^3 + 1 $ "
   ]
  },
  {
   "cell_type": "markdown",
   "metadata": {},
   "source": [
    "6. Perform gradient descent on this function to find its minimum.\n",
    "\n",
    "   $ \\Large f(x) = 5x^2 + 1 $ "
   ]
  },
  {
   "cell_type": "markdown",
   "metadata": {},
   "source": [
    "Calculate the derivative. "
   ]
  },
  {
   "cell_type": "markdown",
   "metadata": {},
   "source": [
    "7. Calculate the under this function from $ x = -3 $ through $ x = 5 $.\n",
    "\n",
    "    $ \\Large f(x) = 5x^2 + 1 $ "
   ]
  }
 ],
 "metadata": {
  "kernelspec": {
   "display_name": "Python 3 (ipykernel)",
   "language": "python",
   "name": "python3"
  },
  "language_info": {
   "codemirror_mode": {
    "name": "ipython",
    "version": 3
   },
   "file_extension": ".py",
   "mimetype": "text/x-python",
   "name": "python",
   "nbconvert_exporter": "python",
   "pygments_lexer": "ipython3",
   "version": "3.11.5"
  }
 },
 "nbformat": 4,
 "nbformat_minor": 4
}
