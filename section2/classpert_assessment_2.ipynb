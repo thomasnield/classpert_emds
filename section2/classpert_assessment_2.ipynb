{
 "cells": [
  {
   "cell_type": "markdown",
   "id": "328d9522-3adb-4ede-ba93-5d0229f6f96b",
   "metadata": {},
   "source": [
    "# Section 2 \n",
    "## Assessment Questions"
   ]
  },
  {
   "cell_type": "markdown",
   "id": "6b65b56c-80c6-401b-96e4-57a51fec756f",
   "metadata": {},
   "source": [
    "**1. Evaluate the function** $ \\text{log}_{3}81 $:\n",
    "\n",
    "    a. 4 (correct answer)\n",
    "\n",
    "    b. 3 \n",
    "\n",
    "    c. -2 \n",
    "\n",
    "    d. e\n",
    "\n",
    "\n",
    "FEEDBACK: A logarithm calculates a power for a given base. In this case, we are asking \"3 raised to what power gives 81?\" which would be $ 3 \\times 3 \\times 3 \\times 3 $ so that is a power of 4. "
   ]
  },
  {
   "cell_type": "markdown",
   "id": "6c73ed05-0528-4951-a531-c6a471b460ca",
   "metadata": {},
   "source": [
    "**2. A derivative of a function calculates...**\n",
    "\n",
    "    a. Where a function divides by 0\n",
    "\n",
    "    b. The area under that function\n",
    "\n",
    "    c. A limit approaching a specific point \n",
    "\n",
    "    d. The slope/gradient of that function (correct answer)\n",
    "\n",
    "FEEDBACK: A derivative allows us to calculate the slope/gradient at any given point of a function easily, such as the derivative $ f(x) = x^2 $ is $ f'(x) = 2x $. This means at $ x = 2 $, the slope is $ 4 $. "
   ]
  },
  {
   "cell_type": "markdown",
   "id": "295d42ea-ecbd-4ab8-8be3-9b717f614d2c",
   "metadata": {},
   "source": [
    "**3. The learning rate in gradient descent...**\n",
    "\n",
    "    a. Controls how fast the algorithm moves to a minimum while trading off with accuracy. (correct answer)\n",
    "\n",
    "    b. Controls how smart the \"AI\" is \n",
    "\n",
    "    c. Controls how many iterations are performed\n",
    "\n",
    "    d. Calculates the derivative for a given function\n",
    "\n",
    "\n",
    "FEEDBACK: A learning rate controls how fast the algorithm moves to a minimum at the cost of accuracy. While it will require more iterations the smaller it is, it does not control iterations nore does it calculate the derivative. "
   ]
  }
 ],
 "metadata": {
  "kernelspec": {
   "display_name": "Python 3 (ipykernel)",
   "language": "python",
   "name": "python3"
  },
  "language_info": {
   "codemirror_mode": {
    "name": "ipython",
    "version": 3
   },
   "file_extension": ".py",
   "mimetype": "text/x-python",
   "name": "python",
   "nbconvert_exporter": "python",
   "pygments_lexer": "ipython3",
   "version": "3.11.5"
  }
 },
 "nbformat": 4,
 "nbformat_minor": 5
}
