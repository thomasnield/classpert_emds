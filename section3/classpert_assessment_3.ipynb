{
 "cells": [
  {
   "cell_type": "markdown",
   "id": "3d535fe7-ebad-4a6e-bcb1-bad2555283a2",
   "metadata": {},
   "source": [
    "# Section 3\n",
    "## Assessment Questions"
   ]
  },
  {
   "cell_type": "markdown",
   "id": "d1367599-c4a8-46ed-8f51-8a55be4880aa",
   "metadata": {},
   "source": [
    "1. If there is $ .1 $ probability of rain and $ .2 $ probability of a thunderstorm, what is the probability of rain AND a thunderstorm?\n",
    "\n",
    "   a. 0.02 (correct answer)\n",
    "   \n",
    "   b. 0.30\n",
    "   \n",
    "   c. 0.28\n",
    "   \n",
    "   d. 0.60\n",
    "\n",
    "    FEEDBACK: This is a joint probability problem, so we multiply the probability of both events *rain* and *thunderstorm* to calculate the probability both occur: $ 0.1 \\times 0.2 = 0.02 $. "
   ]
  },
  {
   "cell_type": "markdown",
   "id": "a0b571bb-8582-49d1-a298-3acf12c105fe",
   "metadata": {},
   "source": [
    "2. If there is $ .1 $ probability of rain and $ .2 $ probability of a thunderstorm, what is the probability of rain or a thunderstorm?\n",
    "\n",
    "   a. 0.20\n",
    "   \n",
    "   b. 0.30\n",
    "   \n",
    "   c. 0.28 (correct answer)\n",
    "   \n",
    "   d. 0.60\n",
    "\n",
    "    FEEDBACK: This is a union probability problem, so we add the probability of both events *rain* and *thunderstorm* to calculate the probability either occur. However, to prevent overlap in double counting we also subtract the joint probability: $ 0.1 + 0.2 - 0.1 \\times 0.2 = 0.28 $. "
   ]
  },
  {
   "cell_type": "markdown",
   "id": "8b4fa714-1846-4130-9626-a5efc8717777",
   "metadata": {},
   "source": [
    "3. There is a $ .1 $ probability of rain and $ .2 $ probability of a thunderstorm. However, your meteorologist friend says that the probability of rain increases to $ .6 $ in the event of a thunderstorm. Assuming he is right, what is the probability of rain and a thunderstorm?\n",
    "\n",
    "   a. 0.02\n",
    "   \n",
    "   b. 0.12 (correct answer)\n",
    "   \n",
    "   c. 0.28 \n",
    "   \n",
    "   d. 0.60\n",
    "\n",
    "    FEEDBACK: This is a joint probability problem but with a conditional probability. Since the conditional probability is available and applicable, we multiply the probability of *thunderstorm* with *rain given thunderstrom* to calculate the probability both occur: $ 0.2 \\times 0.6 = 0.12 $. "
   ]
  }
 ],
 "metadata": {
  "kernelspec": {
   "display_name": "Python 3 (ipykernel)",
   "language": "python",
   "name": "python3"
  },
  "language_info": {
   "codemirror_mode": {
    "name": "ipython",
    "version": 3
   },
   "file_extension": ".py",
   "mimetype": "text/x-python",
   "name": "python",
   "nbconvert_exporter": "python",
   "pygments_lexer": "ipython3",
   "version": "3.11.5"
  }
 },
 "nbformat": 4,
 "nbformat_minor": 5
}
