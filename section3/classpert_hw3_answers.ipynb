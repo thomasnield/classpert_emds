{
 "cells": [
  {
   "cell_type": "markdown",
   "id": "8cd89e1b-d54e-4832-a146-8bd1256b70bd",
   "metadata": {},
   "source": [
    "# Homework 3 (with answers)"
   ]
  },
  {
   "cell_type": "markdown",
   "id": "5a61a156-e610-4a47-bf5c-4dc1d7507573",
   "metadata": {},
   "source": [
    "1. You flipped a coin 25 times and got heads 19 times and tails 5 times. Do you think this coin has any good probability of being fair? Why or why not?"
   ]
  },
  {
   "cell_type": "code",
   "execution_count": 6,
   "id": "4e7af650-74d8-471d-a874-6beb1e904d08",
   "metadata": {
    "scrolled": true
   },
   "outputs": [
    {
     "name": "stdout",
     "output_type": "stream",
     "text": [
      "0.001299738883972168\n"
     ]
    }
   ],
   "source": [
    "from scipy.stats import beta\n",
    "\n",
    "a = 19\n",
    "b = 5\n",
    "\n",
    "p = beta.cdf(.50, a, b)\n",
    "\n",
    "# 0.001299738883972168\n",
    "print(p)\n",
    "\n",
    "# The coin is unfair with a .1% probability of a 50% probability or less of heads! "
   ]
  },
  {
   "cell_type": "markdown",
   "id": "329b2557-bc19-4f83-b417-a7faa27eb546",
   "metadata": {},
   "source": [
    "We can visualize this area using matplotlib. Notice how tiny it is. "
   ]
  },
  {
   "cell_type": "code",
   "execution_count": 11,
   "id": "502bab52-c62e-4065-aaa2-bf64fba51cc9",
   "metadata": {},
   "outputs": [
    {
     "data": {
      "image/png": "[encoded data removed]",
      "text/plain": [
       "<Figure size 640x480 with 1 Axes>"
      ]
     },
     "metadata": {},
     "output_type": "display_data"
    }
   ],
   "source": [
    "from scipy.stats import beta \n",
    "import matplotlib.pyplot as plt\n",
    "import numpy as np \n",
    "\n",
    "a, b = 19, 5\n",
    "x = np.arange(0, 1.01, .01)\n",
    "y = beta.pdf(x, a, b)\n",
    "\n",
    "upper_area_x = .5\n",
    "x_area_range = (x <= upper_area_x)\n",
    "\n",
    "plt.plot(x, beta.pdf(x, a, b))\n",
    "plt.fill_between(x[x_area_range], y[x_area_range], 0, alpha=.5,  color='red')\n",
    "plt.show()"
   ]
  },
  {
   "cell_type": "markdown",
   "id": "a6abd743-96fd-4ff6-9bf8-5b292cf62c44",
   "metadata": {},
   "source": [
    "2. There is a 30% chance of rain today, and a 40% chance your umbrella order will arrive on time. You are eager to walk in the rain today and cannot do so without either! What is the probability it will rain AND your umbrella will arrive?"
   ]
  },
  {
   "cell_type": "code",
   "execution_count": 3,
   "id": "5d6092d2-3429-4a27-b8f1-071f55b86140",
   "metadata": {},
   "outputs": [
    {
     "data": {
      "text/plain": [
       "0.12"
      ]
     },
     "execution_count": 3,
     "metadata": {},
     "output_type": "execute_result"
    }
   ],
   "source": [
    "# joint probability is simple multiplication \n",
    "# .12 probability it will rain and your umbrella will arrive\n",
    ".3 * .4 "
   ]
  },
  {
   "cell_type": "markdown",
   "id": "8aafd345-aacc-4a10-a877-1bd49fe04f80",
   "metadata": {},
   "source": [
    "3. There is a 30% chance of rain today, and a 40% chance your umbrella order will arrive on time.You will be able to run errands only if it does not rain or your umbrella arrives. What is the probability it will not rain OR your umbrella arrives?"
   ]
  },
  {
   "cell_type": "code",
   "execution_count": 4,
   "id": "a3605c6f-854b-43a8-b27d-761e193e0315",
   "metadata": {},
   "outputs": [
    {
     "data": {
      "text/plain": [
       "0.58"
      ]
     },
     "execution_count": 4,
     "metadata": {},
     "output_type": "execute_result"
    }
   ],
   "source": [
    "# union probability is addition with the subtraction of joint probability. \n",
    ".3 + .4 - (.3 * .4) "
   ]
  },
  {
   "cell_type": "markdown",
   "id": "580c81db-493d-4412-b428-fc0294ef6b5e",
   "metadata": {},
   "source": [
    "4. There is a 30% chance of rain today, and a 40% chance your umbrella order will arrive on time. However, you found out if it rains there is only a 20% chance your umbrella will arrive on time. What is the probability it will rain AND your umbrella will arrive on time?"
   ]
  },
  {
   "cell_type": "code",
   "execution_count": 13,
   "id": "e7823e6d-b187-4d0a-823a-dfabe0a85925",
   "metadata": {},
   "outputs": [
    {
     "data": {
      "text/plain": [
       "0.06"
      ]
     },
     "execution_count": 13,
     "metadata": {},
     "output_type": "execute_result"
    }
   ],
   "source": [
    "# use the conditional probability in a joint probability if it is available and applicable \n",
    ".3 * .2 "
   ]
  },
  {
   "cell_type": "markdown",
   "id": "836c97e6-993f-4dee-9882-0cecba776b15",
   "metadata": {},
   "source": [
    "5. You have 175 passengers booked on a flight from. Las Vegas to Dallas. However, it is Las Vegas on a Sunday morning and you estimate each passenger is 30% likely to not. show up. You are trying to figure out how many seats to overbook so the plane does not fly empty. How likely is it that at least 50 passengers will not show up?"
   ]
  },
  {
   "cell_type": "code",
   "execution_count": 20,
   "id": "12186b11-f2c3-4a49-bc70-675f88cb7e78",
   "metadata": {},
   "outputs": [
    {
     "name": "stdout",
     "output_type": "stream",
     "text": [
      "0.6866320986767304\n"
     ]
    }
   ],
   "source": [
    "from scipy.stats import binom\n",
    "\n",
    "n = 175\n",
    "p = 0.3\n",
    "\n",
    "total_p = 0.0 \n",
    "\n",
    "# add probabilities between 50 and 175 passengers\n",
    "for k in range(50, n+1):\n",
    "    total_p += binom.pmf(k, n, p)\n",
    "\n",
    "print(total_p)"
   ]
  }
 ],
 "metadata": {
  "kernelspec": {
   "display_name": "Python 3 (ipykernel)",
   "language": "python",
   "name": "python3"
  },
  "language_info": {
   "codemirror_mode": {
    "name": "ipython",
    "version": 3
   },
   "file_extension": ".py",
   "mimetype": "text/x-python",
   "name": "python",
   "nbconvert_exporter": "python",
   "pygments_lexer": "ipython3",
   "version": "3.11.5"
  }
 },
 "nbformat": 4,
 "nbformat_minor": 5
}
