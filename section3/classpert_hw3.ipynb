{
 "cells": [
  {
   "cell_type": "markdown",
   "id": "8cd89e1b-d54e-4832-a146-8bd1256b70bd",
   "metadata": {},
   "source": [
    "# Homework 3"
   ]
  },
  {
   "cell_type": "markdown",
   "id": "5a61a156-e610-4a47-bf5c-4dc1d7507573",
   "metadata": {},
   "source": [
    "1. You flipped a coin 25 times and got heads 19 times and tails 5 times. Do you think this coin has any good probability of being fair? Why or why not?"
   ]
  },
  {
   "cell_type": "markdown",
   "id": "a6abd743-96fd-4ff6-9bf8-5b292cf62c44",
   "metadata": {},
   "source": [
    "2. There is a 30% chance of rain today, and a 40% chance your umbrella order will arrive on time. You are eager to walk in the rain today and cannot do so without either! What is the probability it will rain AND your umbrella will arrive?"
   ]
  },
  {
   "cell_type": "markdown",
   "id": "8aafd345-aacc-4a10-a877-1bd49fe04f80",
   "metadata": {},
   "source": [
    "3. There is a 30% chance of rain today, and a 40% chance your umbrella order will arrive on time.You will be able to run errands only if it does not rain or your umbrella arrives. What is the probability it will not rain OR your umbrella arrives?"
   ]
  },
  {
   "cell_type": "markdown",
   "id": "580c81db-493d-4412-b428-fc0294ef6b5e",
   "metadata": {},
   "source": [
    "4. There is a 30% chance of rain today, and a 40% chance your umbrella order will arrive on time. However, you found out if it rains there is only a 20% chance your umbrella will arrive on time. What is the probability it will rain AND your umbrella will arrive on time?"
   ]
  },
  {
   "cell_type": "markdown",
   "id": "836c97e6-993f-4dee-9882-0cecba776b15",
   "metadata": {},
   "source": [
    "5. You have 175 passengers booked on a flight from. Las Vegas to Dallas. However, it is Las Vegas on a Sunday morning and you estimate each passenger is 30% likely to not. show up. You are trying to figure out how many seats to overbook so the plane does not fly empty. How likely is it that at least 50 passengers will not show up?"
   ]
  }
 ],
 "metadata": {
  "kernelspec": {
   "display_name": "Python 3 (ipykernel)",
   "language": "python",
   "name": "python3"
  },
  "language_info": {
   "codemirror_mode": {
    "name": "ipython",
    "version": 3
   },
   "file_extension": ".py",
   "mimetype": "text/x-python",
   "name": "python",
   "nbconvert_exporter": "python",
   "pygments_lexer": "ipython3",
   "version": "3.11.5"
  }
 },
 "nbformat": 4,
 "nbformat_minor": 5
}
