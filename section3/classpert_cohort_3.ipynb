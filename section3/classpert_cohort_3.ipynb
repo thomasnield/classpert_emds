{
 "cells": [
  {
   "cell_type": "markdown",
   "id": "f81a25de-f14f-4f1c-9cd0-2d4b49187d2b",
   "metadata": {
    "jp-MarkdownHeadingCollapsed": true
   },
   "source": [
    "## Limits "
   ]
  },
  {
   "cell_type": "code",
   "execution_count": null,
   "id": "f48a77d9-2bb9-48e0-9b40-7607b4fc2d42",
   "metadata": {},
   "outputs": [],
   "source": [
    "import matplotlib.pyplot as plt\n",
    "import numpy as np \n",
    "\n",
    "def plot_with_secant(f, x1, x2): \n",
    "    \n",
    "    # Define the interval for the x-axis\n",
    "    x_vals = np.linspace(-4, 4, 1000)\n",
    "    \n",
    "    # Calculate the function values for the x-axis values\n",
    "    y_vals = f(x_vals)\n",
    "    \n",
    "    # Create the plot\n",
    "    plt.plot(x_vals, y_vals)\n",
    "    \n",
    "    # Define the secant line\n",
    "    y1, y2 = f(x1), f(x2)\n",
    "    \n",
    "    # Calculate the slope of the secant line\n",
    "    m = (y2 - y1) / (x2 - x1)\n",
    "    print(f\"The slope is {m}\")\n",
    "    \n",
    "    # Calculate the y-intercept of the secant line\n",
    "    b = y1 - m * x1\n",
    "    \n",
    "    # Draw the secant line\n",
    "    x_secant = x_vals \n",
    "    y_secant = m*x_vals+b\n",
    "\n",
    "    # chop off line to stay in range of parabola's y-axis \n",
    "    x_secant = x_secant[(y_secant <= np.max(y_vals)) & (y_secant >= np.min(y_vals))]\n",
    "    y_secant = m*x_secant+b\n",
    "\n",
    "    # plot secant line \n",
    "    plt.plot(x_secant, y_secant)\n",
    "\n",
    "    # plot secant points\n",
    "    plt.plot([x1,x2],[y1,y2], 'o')\n",
    "    \n",
    "    # Add labels and title\n",
    "    plt.xlabel('X')\n",
    "    plt.ylabel('Y')\n",
    "    plt.title('Function f(x) with Secant Line')\n",
    "    \n",
    "    # Show the plot\n",
    "    plt.show()\n",
    "\n",
    "def f(x): return .75*x**2\n",
    "    \n",
    "plot_with_secant(f, 2, 3.5)"
   ]
  },
  {
   "cell_type": "code",
   "execution_count": null,
   "id": "7a63777e-4f84-4e6a-9494-cdde5cb4802b",
   "metadata": {},
   "outputs": [],
   "source": [
    "plot_with_secant(f,2,3)"
   ]
  },
  {
   "cell_type": "code",
   "execution_count": null,
   "id": "801397c3-527c-4261-a1e4-fa6f2f85f05d",
   "metadata": {},
   "outputs": [],
   "source": [
    "plot_with_secant(f, 2, 2.1)"
   ]
  },
  {
   "cell_type": "code",
   "execution_count": null,
   "id": "8711f12c-3c81-4f96-9046-6748bf671d49",
   "metadata": {},
   "outputs": [],
   "source": [
    "plot_with_secant(f, 2, 2.001)"
   ]
  },
  {
   "cell_type": "markdown",
   "id": "3fae4894-cc3b-4275-8ef4-43f2f1db503f",
   "metadata": {
    "jp-MarkdownHeadingCollapsed": true
   },
   "source": [
    "## Derivatives"
   ]
  },
  {
   "cell_type": "code",
   "execution_count": null,
   "id": "a7db9c8f-9d6b-4687-8eb2-8c856cf3efec",
   "metadata": {},
   "outputs": [],
   "source": [
    "from sympy import * \n",
    "\n",
    "x,h = symbols('x h')\n",
    "\n",
    "f = .75*x**2\n",
    "\n",
    "# calculate the slope for x and its neighbor\n",
    "m = (f.subs(x, x+h) - f) / (x+h - x)\n",
    "\n",
    "# calculate the slope by approaching h to 0 \n",
    "limit(m,h,0)"
   ]
  },
  {
   "cell_type": "code",
   "execution_count": null,
   "id": "5d5143d3-061a-4041-aeee-38208a8f13d9",
   "metadata": {},
   "outputs": [],
   "source": [
    "from sympy import * \n",
    "\n",
    "x = symbols('x')\n",
    "f = .75*x**2\n",
    "\n",
    "dx_f = diff(f, x)\n",
    "dx_f"
   ]
  },
  {
   "cell_type": "markdown",
   "id": "872f5fce-6afa-43e9-8d6b-1b3398902da6",
   "metadata": {
    "jp-MarkdownHeadingCollapsed": true
   },
   "source": [
    "## Gradient Descent"
   ]
  },
  {
   "cell_type": "code",
   "execution_count": null,
   "id": "d55deb3d-cff0-45f6-9333-432db495ff06",
   "metadata": {},
   "outputs": [],
   "source": [
    "import random \n",
    "\n",
    "# declare function and derivative\n",
    "x = symbols('x')\n",
    "f = 3*(x+1)**2 + 1\n",
    "dx = diff(f, x) \n",
    "\n",
    "# start x at random location \n",
    "x_i = random.uniform(-3,1)\n",
    "\n",
    "# calculate slope at random x \n",
    "# and tangent line \n",
    "m = dx.subs(x, x_i) \n",
    "b = -(m * x_i - f.subs(x, x_i))\n",
    "\n",
    "plot(f, m*x+b, xlim=(-3,1), ylim=(-1,10))"
   ]
  },
  {
   "cell_type": "code",
   "execution_count": null,
   "id": "3fa7f816-e86a-4def-96e4-2fe595eff7e0",
   "metadata": {},
   "outputs": [],
   "source": [
    "L = .1"
   ]
  },
  {
   "cell_type": "code",
   "execution_count": null,
   "id": "adcbe803-8ba7-4247-aae5-9a8e84b079f9",
   "metadata": {},
   "outputs": [],
   "source": [
    "# run this code cell repeatedly \n",
    "x_i -= m * L \n",
    "m = dx.subs(x, x_i) \n",
    "b = -(m * x_i - f.subs(x, x_i))\n",
    "print(f\"x = {x_i}\")\n",
    "plot(f, m*x+b, xlim=(-3,1), ylim=(-1,10))"
   ]
  },
  {
   "cell_type": "code",
   "execution_count": null,
   "id": "c06a5b31-1335-4e84-b67d-e3f2a6414acb",
   "metadata": {
    "scrolled": true
   },
   "outputs": [],
   "source": [
    "from sympy import * \n",
    "from sympy.solvers import solve \n",
    "import random \n",
    "\n",
    "# declare function and derivative\n",
    "x = symbols('x')\n",
    "f = 3*(x+1)**2 + 1\n",
    "dx = diff(f, x) \n",
    "\n",
    "# declare learning rate \n",
    "L = .01\n",
    "\n",
    "# start x at random location \n",
    "x_i = random.uniform(-3,1)\n",
    "\n",
    "for i in range(1000):\n",
    "    x_i -= m * L \n",
    "    m = dx.subs(x, x_i) \n",
    "    b = -(m * x_i - f.subs(x, x_i))\n",
    "\n",
    "print(f\"x = {x_i}\")\n",
    "plot(f, m*x+b, xlim=(-3,1), ylim=(-1,10))"
   ]
  },
  {
   "cell_type": "markdown",
   "id": "de5fba79-f263-4455-8f9c-3177ec6f948b",
   "metadata": {
    "jp-MarkdownHeadingCollapsed": true
   },
   "source": [
    "## Reimann Sums"
   ]
  },
  {
   "cell_type": "code",
   "execution_count": null,
   "id": "fdb6d75c-89a3-4136-91a4-c66d41984f13",
   "metadata": {
    "scrolled": true
   },
   "outputs": [],
   "source": [
    "import matplotlib.pyplot as plt\n",
    "from matplotlib.patches import Rectangle\n",
    "import numpy as np \n",
    "\n",
    "def plot_reimann_sums(f, x_axis_lower, x_axis_upper, x_lower, x_upper, n_rects): \n",
    "    \n",
    "    # Define the interval for the x-axis\n",
    "    x_vals = np.linspace(x_axis_lower, x_axis_upper, 1000)\n",
    "    \n",
    "    # Calculate the function values for the x-axis values\n",
    "    y_vals = f(x_vals)\n",
    "    \n",
    "    # Create the plot\n",
    "    fig, ax = plt.subplots()\n",
    "\n",
    "    # Define the rectangles\n",
    "    x_rects = np.linspace(x_lower, x_upper, n_rects+1)\n",
    "    y_rects = f(x_rects)\n",
    "\n",
    "    # plot rectangles \n",
    "    for x,y,next_x in zip(x_rects, y_rects, x_rects[1:]): \n",
    "        ax.add_patch(Rectangle((x, 0), next_x-x, y, alpha=.5, color='orange'))\n",
    "\n",
    "    plt.plot(x_vals, y_vals)\n",
    "    \n",
    "    # Show the plot\n",
    "    plt.show()\n",
    "\n",
    "def f(x): return 2*x**2 + 1\n",
    "    \n",
    "plot_reimann_sums(f, x_axis_lower=-2, x_axis_upper=2, x_lower=0, x_upper=1, n_rects=5)"
   ]
  },
  {
   "cell_type": "code",
   "execution_count": null,
   "id": "16d5cf2c-e84a-47b0-a84a-866405a70970",
   "metadata": {},
   "outputs": [],
   "source": [
    "plot_reimann_sums(f, x_axis_lower=-2, x_axis_upper=2, x_lower=0, x_upper=1, n_rects=10)"
   ]
  },
  {
   "cell_type": "code",
   "execution_count": null,
   "id": "37695dbc-0f4a-46a9-89a3-c9fd83a24f6c",
   "metadata": {},
   "outputs": [],
   "source": [
    "plot_reimann_sums(f, x_axis_lower=-2, x_axis_upper=2, x_lower=0, x_upper=1, n_rects=20)"
   ]
  },
  {
   "cell_type": "markdown",
   "id": "981f1d24-f8c8-4fe2-90b4-e90441727b1b",
   "metadata": {
    "jp-MarkdownHeadingCollapsed": true
   },
   "source": [
    "## Integration"
   ]
  },
  {
   "cell_type": "code",
   "execution_count": null,
   "id": "8985629c-5b97-41d5-8612-bdfe1e319fc8",
   "metadata": {},
   "outputs": [],
   "source": [
    "def approximate_integral(a, b, n, f):\n",
    "    delta_x = (b - a) / n\n",
    "    total_sum = 0\n",
    "\n",
    "    for i in range(1, n + 1):\n",
    "        leftpoint = a + delta_x * (i - 1)\n",
    "        total_sum += f(leftpoint)\n",
    "\n",
    "    return total_sum * delta_x\n",
    "\n",
    "area = approximate_integral(a=0, b=1, n=10_000, f=f)\n",
    "\n",
    "print(area) # 1.6665666699999973"
   ]
  },
  {
   "cell_type": "code",
   "execution_count": null,
   "id": "23527d06-93f0-4ac7-9757-bb9ad85311ed",
   "metadata": {},
   "outputs": [],
   "source": [
    "from sympy import *\n",
    "\n",
    "# Declare variables to SymPy\n",
    "x, i, n = symbols('x i n')\n",
    "\n",
    "# Declare function and range\n",
    "f = 2*x**2 + 1\n",
    "lower, upper = 0, 1\n",
    "\n",
    "# Calculate width and each rectangle height at index \"i\"\n",
    "delta_x = ((upper - lower) / n)\n",
    "x_i = (lower + delta_x * i)\n",
    "fx_i = f.subs(x, x_i)\n",
    "\n",
    "# Iterate all \"n\" rectangles and sum their areas\n",
    "n_rectangles = Sum(delta_x * fx_i, (i, 1, n)).doit()\n",
    "\n",
    "# Calculate the area by approaching the number\n",
    "# of rectangles \"n\" to infinity\n",
    "area = limit(n_rectangles, n, oo)\n",
    "\n",
    "area # prints 5/3"
   ]
  },
  {
   "cell_type": "code",
   "execution_count": null,
   "id": "cd7dda80-8a14-4f39-80c2-49f03232d7e2",
   "metadata": {},
   "outputs": [],
   "source": [
    "from sympy import * \n",
    "\n",
    "x = symbols('x')\n",
    "f = 2*x**2 + 1\n",
    "\n",
    "integrate(f, (x,0,1))"
   ]
  },
  {
   "cell_type": "markdown",
   "id": "590f7235-0453-4ab0-9b3b-252eb24e0c84",
   "metadata": {},
   "source": [
    "## Normal Distribution and Integration"
   ]
  },
  {
   "cell_type": "code",
   "execution_count": null,
   "id": "5afa5c46-7ea9-409c-a118-cf81550583a6",
   "metadata": {
    "scrolled": true
   },
   "outputs": [],
   "source": [
    "from sympy import * \n",
    "\n",
    "x,u,s = symbols('x u s')\n",
    "f = 1 / (s * sqrt(2*pi)) * E**(-1/2 * ((x - u)/s)**2)\n",
    "\n",
    "# a standard normal distribution has a \n",
    "# mean of 0 and a standard deviation of 1 \n",
    "standard_normal = f.subs([(u,0), (s, 1)])\n",
    "\n",
    "plot(standard_normal, xlim=(-4,4), ylim=(-0,.5))"
   ]
  },
  {
   "cell_type": "code",
   "execution_count": null,
   "id": "4a3b0f3e-319d-4939-8957-fd0da744dcd2",
   "metadata": {},
   "outputs": [],
   "source": [
    "x_array = np.linspace(-4, 1, 1000)\n",
    "f_array = lambdify(x, standard_normal)(x_array)\n",
    "\n",
    "plot(standard_normal, xlim=(-4,4), ylim=(-0,.5), fill={'x': x_array,'y1':f_array, 'alpha': .5})"
   ]
  }
 ],
 "metadata": {
  "kernelspec": {
   "display_name": "Python 3 (ipykernel)",
   "language": "python",
   "name": "python3"
  },
  "language_info": {
   "codemirror_mode": {
    "name": "ipython",
    "version": 3
   },
   "file_extension": ".py",
   "mimetype": "text/x-python",
   "name": "python",
   "nbconvert_exporter": "python",
   "pygments_lexer": "ipython3",
   "version": "3.11.5"
  }
 },
 "nbformat": 4,
 "nbformat_minor": 5
}
