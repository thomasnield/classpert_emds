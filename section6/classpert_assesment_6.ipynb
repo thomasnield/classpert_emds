{
 "cells": [
  {
   "cell_type": "markdown",
   "id": "9a51bd14-5d1f-43e4-9ff2-28cf8b44b92e",
   "metadata": {},
   "source": [
    "# Section 6\n",
    "## Assessment Questions"
   ]
  },
  {
   "cell_type": "markdown",
   "id": "cfddcac1-1ead-42c0-88ba-655bb6e96168",
   "metadata": {},
   "source": [
    "1. True/False - A data scientist's job is set up to always contributes value.\n",
    "\n",
    "   a. True\n",
    "   \n",
    "   b. False [correct answer]\n",
    "\n",
    "FEEDBACK: It is common for managers to hire a data scientist but not have a clearly defined role for them. This creates a work situation where the data scientist is not creating value for the organization and it is important to monitor for this. "
   ]
  },
  {
   "cell_type": "markdown",
   "id": "3be7af04-a374-46e1-b0e9-8eb192d9cf3c",
   "metadata": {},
   "source": [
    "\n",
    "2. When getting insights from data, it is ideally best practice to....\n",
    "\n",
    "   a. Gather data first then create hypotheses around it.\n",
    "   \n",
    "   b. Create a hypothesis first and then gather data around it. [correct answer]\n",
    "   \n",
    "   c. Collect as much data as possible across every possible variable.\n",
    "\n",
    "FEEDBACK: It is better to use the scientific method if possible instead of data mining, which hypothesizes then gathers data, rather than gathers data then hypothesizes. You want to structure around a controlled variable and be careful to not gather too much data with too many variables, without a specific objective.\n",
    "   "
   ]
  },
  {
   "cell_type": "markdown",
   "id": "2eac7241-a9a8-469f-970b-bba47cf860b0",
   "metadata": {},
   "source": [
    "3. When a manager asks you to create a model that with a predetermined outcome, you should...\n",
    "\n",
    "   a. Be concerned as this is p-hacking [correct answer]\n",
    "\n",
    "   b. Be okay as long as you find data that supports the outcome\n",
    "\n",
    "   c. Be okay since you have a clear objective\n",
    "\n",
    "FEEDBACK: When you have a predetermined outcome before you even have done any modeling, hypothesis testing, or machine learning that's a precarious situation. This creates a cherry-picking objective resulting in p-hacking, rather than openly exploring the question without a favored outcome. "
   ]
  }
 ],
 "metadata": {
  "kernelspec": {
   "display_name": "Python 3 (ipykernel)",
   "language": "python",
   "name": "python3"
  },
  "language_info": {
   "codemirror_mode": {
    "name": "ipython",
    "version": 3
   },
   "file_extension": ".py",
   "mimetype": "text/x-python",
   "name": "python",
   "nbconvert_exporter": "python",
   "pygments_lexer": "ipython3",
   "version": "3.11.5"
  }
 },
 "nbformat": 4,
 "nbformat_minor": 5
}
