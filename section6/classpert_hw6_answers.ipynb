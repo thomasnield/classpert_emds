{
 "cells": [
  {
   "cell_type": "markdown",
   "id": "94667e9f-c306-4d4c-ac8f-47c6665938d9",
   "metadata": {},
   "source": [
    "# Homework 6"
   ]
  },
  {
   "cell_type": "markdown",
   "id": "70ec370b-bfe1-4793-8019-67e26da9dafe",
   "metadata": {},
   "source": [
    "1. Perform a train/test split on this background color and light/dark font prediction dataset using a logistic regresion. "
   ]
  },
  {
   "cell_type": "code",
   "execution_count": 2,
   "id": "b1982c30-e2cc-43a5-b2eb-09ef8b505721",
   "metadata": {},
   "outputs": [
    {
     "name": "stdout",
     "output_type": "stream",
     "text": [
      "[[166   1]\n",
      " [  1 276]]\n"
     ]
    }
   ],
   "source": [
    "import pandas as pd\n",
    "from sklearn.linear_model import LogisticRegression\n",
    "from sklearn.model_selection import train_test_split\n",
    "from sklearn.metrics import confusion_matrix\n",
    "import numpy as np\n",
    "\n",
    "# Load the data\n",
    "df = pd.read_csv(\"light_dark_font_training_set.csv\", delimiter=\",\")\n",
    "\n",
    "# Extract input variables (all rows, all columns but last column)\n",
    "X = df.values[:, :-1]\n",
    "\n",
    "# Extract output column (all rows, last column)\n",
    "Y = df.values[:, -1]\n",
    "\n",
    "model = LogisticRegression(solver='liblinear')\n",
    "\n",
    "X_train, X_test, Y_train, Y_test = train_test_split(X, Y, test_size=.33)\n",
    "model.fit(X_train, Y_train)\n",
    "prediction = model.predict(X_test)\n",
    "\n",
    "\"\"\"\n",
    "The confusion matrix evaluates accuracy within each category.\n",
    "[[truepositives falsenegatives]\n",
    " [falsepositives truenegatives]]\n",
    "\n",
    "The diagonal represents correct predictions,\n",
    "so we want those to be higher\n",
    "\"\"\"\n",
    "matrix = confusion_matrix(y_true=Y_test, y_pred=prediction)\n",
    "print(matrix)"
   ]
  },
  {
   "cell_type": "markdown",
   "id": "c4d6151a-0635-47a7-95a9-105282812fc3",
   "metadata": {},
   "source": [
    "2.  You have decided to take on Stanley Tumblers and come up with your own tumbler that you believe will keep drinks cooler longer. You create two linear regressions, one for the Stanley Tumbler and one for yours. The x-axis is the environment temperature and the y-axis is the number of hours before reaching room temperature. You collected 60 data points off each tumbler. What are some confounding factors to consider and control for in this experiment when you compare the results? "
   ]
  },
  {
   "attachments": {},
   "cell_type": "markdown",
   "id": "fc6cfe72-faee-46d5-8d75-b3d432c2f4e5",
   "metadata": {},
   "source": [
    "3. Your executive director oversees 12 departments in a company of 2000 people, ranging from airport operations to accounting and IT. \r\n",
    "She tasks you to create and lead a “data science” team of 20 people \r\n",
    "This data science team will “rove” and aid each of the 12 departments to make them more “data-driven,” apply machine learning, and break down data siloes that exis .\r\n",
    "Is this objective reasonable? What opportunities/challenges lie ahe?\r\n",
    "\r\n"
   ]
  },
  {
   "attachments": {},
   "cell_type": "markdown",
   "id": "dc12fcae-bcd5-4b26-b1d7-7958ab553785",
   "metadata": {},
   "source": [
    "4. You work at an airline. \n",
    "As aircraft age, maintenance costs increase, and the manufacturer is not delivering planes fast enough.\r\n",
    "Your director wants to hire a data scientist who can app machine learningng to plan the retirement schedule of aircraft to minimize losses without shrinking the fleet too quickl .\r\n",
    "The director knows that a single data scientist/deep learning job will get hundreds of applications, and reasons one capable candidate should exist in that po l.\r\n",
    "Is this the right talent strategy? Why or why nt? \r\n"
   ]
  },
  {
   "cell_type": "markdown",
   "id": "c4785a8a-83ee-4465-8086-201d16819d32",
   "metadata": {},
   "source": [
    "5. You work at a specialty laptop manufacturer and as the data scientist, your boss hands you an assignment. He wants you to show that their laptop battery life is slightly superior to competitors and gives no more direction or details. What do you do in this situation? How would you go about collecting data? How would you explain and approach the results to your manager? "
   ]
  },
  {
   "cell_type": "code",
   "execution_count": null,
   "id": "8e8eb2ac-35c5-49aa-83ba-2a4223b6d9f4",
   "metadata": {},
   "outputs": [],
   "source": []
  }
 ],
 "metadata": {
  "kernelspec": {
   "display_name": "Python 3 (ipykernel)",
   "language": "python",
   "name": "python3"
  },
  "language_info": {
   "codemirror_mode": {
    "name": "ipython",
    "version": 3
   },
   "file_extension": ".py",
   "mimetype": "text/x-python",
   "name": "python",
   "nbconvert_exporter": "python",
   "pygments_lexer": "ipython3",
   "version": "3.11.5"
  }
 },
 "nbformat": 4,
 "nbformat_minor": 5
}
